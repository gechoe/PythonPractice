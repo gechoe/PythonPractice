{
 "cells": [
  {
   "cell_type": "markdown",
   "id": "9fdf4dd2",
   "metadata": {},
   "source": [
    "![Pluralsight Banner](_ignore/stepTwo.png)"
   ]
  },
  {
   "cell_type": "markdown",
   "id": "6ba13873",
   "metadata": {},
   "source": [
    "## <font color='130F25'>Task 2.1: Importing the pprint module<font>"
   ]
  },
  {
   "cell_type": "code",
   "execution_count": 1,
   "id": "ce0cc550",
   "metadata": {},
   "outputs": [],
   "source": [
    "# Import the pprint module\n",
    "import pprint\n"
   ]
  },
  {
   "cell_type": "markdown",
   "id": "55e5f6f5",
   "metadata": {},
   "source": [
    "## <font color='130F25'>Task 2.2: Understanding the usefulness of pprint<font>"
   ]
  },
  {
   "cell_type": "code",
   "execution_count": 2,
   "id": "aa31748d",
   "metadata": {},
   "outputs": [
    {
     "name": "stdout",
     "output_type": "stream",
     "text": [
      "Printing complex_data with print():\n",
      "[{'A', 'Here', 'Set'}, ('This', 'is', 'a', 'tuple', 'with', 7, 'elements'), [True, False], 'A somewhat lengthy string', 0, 3.141529]\n",
      "\n",
      "Printing complex_data with pprint()\n",
      "[{'A', 'Here', 'Set'},\n",
      " ('This', 'is', 'a', 'tuple', 'with', 7, 'elements'),\n",
      " [True, False],\n",
      " 'A somewhat lengthy string',\n",
      " 0,\n",
      " 3.141529]\n"
     ]
    }
   ],
   "source": [
    "# Provided code for complex data\n",
    "complex_data = [\n",
    "    {\"A\", \"Set\", \"Here\"},\n",
    "    (\"This\", \"is\", \"a\", \"tuple\", \"with\", 7, \"elements\"),\n",
    "    [True, False],\n",
    "    \"A somewhat lengthy string\",\n",
    "    0,\n",
    "    3.141529,\n",
    "]\n",
    "\n",
    "# Print complex data normally and with pprint\n",
    "print(\"Printing complex_data with print():\")\n",
    "print(complex_data)\n",
    "\n",
    "print(\"\\nPrinting complex_data with pprint()\")\n",
    "pprint.pprint(complex_data)\n"
   ]
  },
  {
   "cell_type": "markdown",
   "id": "2f126a1f",
   "metadata": {},
   "source": [
    "## <font color='130F25'>Task 2.3: Creating a list<font>"
   ]
  },
  {
   "cell_type": "code",
   "execution_count": 3,
   "id": "9477571e",
   "metadata": {},
   "outputs": [
    {
     "name": "stdout",
     "output_type": "stream",
     "text": [
      "[1, 2, 3, 4, 5]\n"
     ]
    }
   ],
   "source": [
    "# Create a list and print it\n",
    "my_list = [1, 2, 3, 4, 5]\n",
    "pprint.pprint(my_list)"
   ]
  },
  {
   "cell_type": "markdown",
   "id": "d406b598",
   "metadata": {},
   "source": [
    "## <font color='130F25'>Task 2.4: Creating a tuple<font>"
   ]
  },
  {
   "cell_type": "code",
   "execution_count": 4,
   "id": "3e526a03",
   "metadata": {},
   "outputs": [
    {
     "name": "stdout",
     "output_type": "stream",
     "text": [
      "('a', 'b', 'c', 'd', 'e')\n"
     ]
    }
   ],
   "source": [
    "# Create a tuple and print it\n",
    "my_tuple = ('a', 'b', 'c', 'd', 'e')\n",
    "pprint.pprint(my_tuple)"
   ]
  },
  {
   "cell_type": "markdown",
   "id": "0a46ddd7",
   "metadata": {},
   "source": [
    "## <font color='130F25'>Task 2.5: Creating a set<font>"
   ]
  },
  {
   "cell_type": "code",
   "execution_count": 5,
   "id": "1ddfd673",
   "metadata": {},
   "outputs": [
    {
     "name": "stdout",
     "output_type": "stream",
     "text": [
      "{'banana', 'cherry', 'apple'}\n"
     ]
    }
   ],
   "source": [
    "# Create a set and print it\n",
    "my_set = {'apple', 'banana', 'cherry'}\n",
    "pprint.pprint(my_set)"
   ]
  }
 ],
 "metadata": {
  "kernelspec": {
   "display_name": "Python 3 (ipykernel)",
   "language": "python",
   "name": "python3"
  },
  "language_info": {
   "codemirror_mode": {
    "name": "ipython",
    "version": 3
   },
   "file_extension": ".py",
   "mimetype": "text/x-python",
   "name": "python",
   "nbconvert_exporter": "python",
   "pygments_lexer": "ipython3",
   "version": "3.10.6"
  }
 },
 "nbformat": 4,
 "nbformat_minor": 5
}

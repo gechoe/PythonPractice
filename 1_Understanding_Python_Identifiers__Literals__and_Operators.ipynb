{
 "cells": [
  {
   "cell_type": "markdown",
   "id": "56ba9a67",
   "metadata": {},
   "source": [
    "![Pluralsight Banner](_ignore/stepOne.png)"
   ]
  },
  {
   "cell_type": "markdown",
   "id": "f38f8273",
   "metadata": {},
   "source": [
    "## <font color='130F25'>Task 1.1: Creating Python Identifiers<font>"
   ]
  },
  {
   "cell_type": "code",
   "execution_count": 1,
   "id": "e44d5ea0",
   "metadata": {},
   "outputs": [
    {
     "name": "stdout",
     "output_type": "stream",
     "text": [
      "5\n"
     ]
    }
   ],
   "source": [
    "# Create a Python identifier\n",
    "my_identifier = 5\n",
    "\n",
    "# Print the value of the identifier\n",
    "print(my_identifier)"
   ]
  },
  {
   "cell_type": "markdown",
   "id": "c7821c2d",
   "metadata": {},
   "source": [
    "## <font color='130F25'>Task 1.2: Creating Boolean Literals<font>"
   ]
  },
  {
   "cell_type": "code",
   "execution_count": 2,
   "id": "8bdab3c0",
   "metadata": {},
   "outputs": [
    {
     "name": "stdout",
     "output_type": "stream",
     "text": [
      "True\n",
      "False\n"
     ]
    }
   ],
   "source": [
    "# Create Boolean literals\n",
    "my_true_literal = True\n",
    "my_false_literal = False\n",
    "\n",
    "# Print the values of the literals\n",
    "print(my_true_literal)\n",
    "print(my_false_literal)"
   ]
  },
  {
   "cell_type": "markdown",
   "id": "73942acd",
   "metadata": {},
   "source": [
    "## <font color='130F25'>Task 1.3: Creating String Literals<font>"
   ]
  },
  {
   "cell_type": "code",
   "execution_count": 3,
   "id": "0d50332e",
   "metadata": {},
   "outputs": [
    {
     "name": "stdout",
     "output_type": "stream",
     "text": [
      "Hello World!\n"
     ]
    }
   ],
   "source": [
    "# Create a string literal\n",
    "my_string_literal = \"Hello World!\"\n",
    "\n",
    "# Print the value of the literal\n",
    "print(my_string_literal)"
   ]
  },
  {
   "cell_type": "markdown",
   "id": "5dbc704a",
   "metadata": {},
   "source": [
    "## <font color='130F25'>Task 1.4: Creating Numeric Literals<font>"
   ]
  },
  {
   "cell_type": "code",
   "execution_count": 4,
   "id": "b9e026bb",
   "metadata": {},
   "outputs": [
    {
     "name": "stdout",
     "output_type": "stream",
     "text": [
      "3\n"
     ]
    }
   ],
   "source": [
    "# Create a numeric literal\n",
    "my_numeric_literal = 3\n",
    "\n",
    "# Print the value of the literal\n",
    "print(my_numeric_literal)"
   ]
  },
  {
   "cell_type": "markdown",
   "id": "01be0c9c",
   "metadata": {},
   "source": [
    "## <font color='130F25'>Task 1.5: Using Arithmetic Operators<font>"
   ]
  },
  {
   "cell_type": "code",
   "execution_count": 5,
   "id": "23b45eec",
   "metadata": {},
   "outputs": [
    {
     "name": "stdout",
     "output_type": "stream",
     "text": [
      "9\n"
     ]
    }
   ],
   "source": [
    "# Perform an arithmetic operation\n",
    "result = 3 ** 2\n",
    "\n",
    "# Print the result\n",
    "print(result)"
   ]
  },
  {
   "cell_type": "markdown",
   "id": "51daaf3a",
   "metadata": {},
   "source": [
    "## <font color='130F25'>Task 1.6: Using Comparison Operators<font>"
   ]
  },
  {
   "cell_type": "code",
   "execution_count": 6,
   "id": "0b3f412a",
   "metadata": {},
   "outputs": [
    {
     "name": "stdout",
     "output_type": "stream",
     "text": [
      "True\n"
     ]
    }
   ],
   "source": [
    "# Perform a comparison operation\n",
    "result = 1 > 0\n",
    "\n",
    "# Print the result\n",
    "print(result)"
   ]
  },
  {
   "cell_type": "markdown",
   "id": "f916cede",
   "metadata": {},
   "source": [
    "## <font color='130F25'>Task 1.7: Using Logical Operators<font>"
   ]
  },
  {
   "cell_type": "code",
   "execution_count": 7,
   "id": "2613598f",
   "metadata": {},
   "outputs": [
    {
     "name": "stdout",
     "output_type": "stream",
     "text": [
      "True\n"
     ]
    }
   ],
   "source": [
    "# Perform a logical operation\n",
    "result = True and True\n",
    "\n",
    "# Print the result\n",
    "print(result)"
   ]
  },
  {
   "cell_type": "markdown",
   "id": "f5c1b8af",
   "metadata": {},
   "source": [
    "###### <font color='130F25'>To go to the next step, click on the orange jupyter logo at the top of the editor.</font>"
   ]
  }
 ],
 "metadata": {
  "kernelspec": {
   "display_name": "Python 3 (ipykernel)",
   "language": "python",
   "name": "python3"
  },
  "language_info": {
   "codemirror_mode": {
    "name": "ipython",
    "version": 3
   },
   "file_extension": ".py",
   "mimetype": "text/x-python",
   "name": "python",
   "nbconvert_exporter": "python",
   "pygments_lexer": "ipython3",
   "version": "3.10.6"
  }
 },
 "nbformat": 4,
 "nbformat_minor": 5
}
